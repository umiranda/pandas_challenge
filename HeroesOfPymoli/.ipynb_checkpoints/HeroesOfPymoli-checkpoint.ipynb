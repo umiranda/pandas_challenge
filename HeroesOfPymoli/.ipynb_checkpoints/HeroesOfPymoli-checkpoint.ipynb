{
 "cells": [
  {
   "cell_type": "code",
   "execution_count": 1,
   "metadata": {},
   "outputs": [
    {
     "data": {
      "text/html": [
       "<div>\n",
       "<style scoped>\n",
       "    .dataframe tbody tr th:only-of-type {\n",
       "        vertical-align: middle;\n",
       "    }\n",
       "\n",
       "    .dataframe tbody tr th {\n",
       "        vertical-align: top;\n",
       "    }\n",
       "\n",
       "    .dataframe thead th {\n",
       "        text-align: right;\n",
       "    }\n",
       "</style>\n",
       "<table border=\"1\" class=\"dataframe\">\n",
       "  <thead>\n",
       "    <tr style=\"text-align: right;\">\n",
       "      <th></th>\n",
       "      <th>Purchase ID</th>\n",
       "      <th>SN</th>\n",
       "      <th>Age</th>\n",
       "      <th>Gender</th>\n",
       "      <th>Item ID</th>\n",
       "      <th>Item Name</th>\n",
       "      <th>Price</th>\n",
       "    </tr>\n",
       "  </thead>\n",
       "  <tbody>\n",
       "    <tr>\n",
       "      <th>0</th>\n",
       "      <td>0</td>\n",
       "      <td>Lisim78</td>\n",
       "      <td>20</td>\n",
       "      <td>Male</td>\n",
       "      <td>108</td>\n",
       "      <td>Extraction, Quickblade Of Trembling Hands</td>\n",
       "      <td>3.53</td>\n",
       "    </tr>\n",
       "    <tr>\n",
       "      <th>1</th>\n",
       "      <td>1</td>\n",
       "      <td>Lisovynya38</td>\n",
       "      <td>40</td>\n",
       "      <td>Male</td>\n",
       "      <td>143</td>\n",
       "      <td>Frenzied Scimitar</td>\n",
       "      <td>1.56</td>\n",
       "    </tr>\n",
       "    <tr>\n",
       "      <th>2</th>\n",
       "      <td>2</td>\n",
       "      <td>Ithergue48</td>\n",
       "      <td>24</td>\n",
       "      <td>Male</td>\n",
       "      <td>92</td>\n",
       "      <td>Final Critic</td>\n",
       "      <td>4.88</td>\n",
       "    </tr>\n",
       "    <tr>\n",
       "      <th>3</th>\n",
       "      <td>3</td>\n",
       "      <td>Chamassasya86</td>\n",
       "      <td>24</td>\n",
       "      <td>Male</td>\n",
       "      <td>100</td>\n",
       "      <td>Blindscythe</td>\n",
       "      <td>3.27</td>\n",
       "    </tr>\n",
       "    <tr>\n",
       "      <th>4</th>\n",
       "      <td>4</td>\n",
       "      <td>Iskosia90</td>\n",
       "      <td>23</td>\n",
       "      <td>Male</td>\n",
       "      <td>131</td>\n",
       "      <td>Fury</td>\n",
       "      <td>1.44</td>\n",
       "    </tr>\n",
       "  </tbody>\n",
       "</table>\n",
       "</div>"
      ],
      "text/plain": [
       "   Purchase ID             SN  Age Gender  Item ID  \\\n",
       "0            0        Lisim78   20   Male      108   \n",
       "1            1    Lisovynya38   40   Male      143   \n",
       "2            2     Ithergue48   24   Male       92   \n",
       "3            3  Chamassasya86   24   Male      100   \n",
       "4            4      Iskosia90   23   Male      131   \n",
       "\n",
       "                                   Item Name  Price  \n",
       "0  Extraction, Quickblade Of Trembling Hands   3.53  \n",
       "1                          Frenzied Scimitar   1.56  \n",
       "2                               Final Critic   4.88  \n",
       "3                                Blindscythe   3.27  \n",
       "4                                       Fury   1.44  "
      ]
     },
     "execution_count": 1,
     "metadata": {},
     "output_type": "execute_result"
    }
   ],
   "source": [
    "# Dependencies and Setup\n",
    "import pandas as pd\n",
    "import os\n",
    "\n",
    "# File to Load (Remember to Change These)\n",
    "purchase_data = \"Resources/Unit 4 - Pandas_Homework_Instructions_HeroesOfPymoli_Resources_purchase_data.csv\"\n",
    "\n",
    "# Read Purchasing File and store into Pandas data frame\n",
    "purchase_df = pd.read_csv(purchase_data)\n",
    "purchase_df.head()"
   ]
  },
  {
   "cell_type": "code",
   "execution_count": 2,
   "metadata": {},
   "outputs": [
    {
     "data": {
      "text/html": [
       "<style  type=\"text/css\" >\n",
       "    #T_79dbd6a2_165b_11eb_a999_acde48001122 caption {\n",
       "          font-size: 20px;\n",
       "          color: black;\n",
       "    }</style><table id=\"T_79dbd6a2_165b_11eb_a999_acde48001122\" ><caption>Player Count</caption><thead>    <tr>        <th class=\"blank level0\" ></th>        <th class=\"col_heading level0 col0\" >Total Players</th>    </tr></thead><tbody>\n",
       "                <tr>\n",
       "                        <th id=\"T_79dbd6a2_165b_11eb_a999_acde48001122level0_row0\" class=\"row_heading level0 row0\" >0</th>\n",
       "                        <td id=\"T_79dbd6a2_165b_11eb_a999_acde48001122row0_col0\" class=\"data row0 col0\" >576</td>\n",
       "            </tr>\n",
       "    </tbody></table>"
      ],
      "text/plain": [
       "<pandas.io.formats.style.Styler at 0x7fab17717e80>"
      ]
     },
     "execution_count": 2,
     "metadata": {},
     "output_type": "execute_result"
    }
   ],
   "source": [
    "#Display the total number of players\n",
    "total_players = purchase_df[\"SN\"].nunique()\n",
    "df_summary = pd.DataFrame({\n",
    "    \"Total Players\" : [total_players]\n",
    "})\n",
    "\n",
    "Title = df_summary.style.set_caption ('Player Count')\n",
    "Title.set_table_styles([{\n",
    "                         'selector':'caption',\n",
    "                        'props': [('font-size', '20px'),                                 \n",
    "                                 ('color', 'black')]\n",
    "                        }])"
   ]
  },
  {
   "cell_type": "code",
   "execution_count": 3,
   "metadata": {},
   "outputs": [],
   "source": [
    "#calculate mean, count of purchases and total renvenue\n",
    "uni_items = purchase_df[\"Item Name\"].nunique()\n",
    "avr_price = \"${:.2f}\".format(purchase_df[\"Price\"].mean())\n",
    "\n",
    "\n",
    "num_purchases = purchase_df[\"Purchase ID\"].count()\n",
    "tot_revenue = \"${:,.2f}\".format(purchase_df[\"Price\"].sum())\n"
   ]
  },
  {
   "cell_type": "code",
   "execution_count": 4,
   "metadata": {},
   "outputs": [
    {
     "data": {
      "text/html": [
       "<style  type=\"text/css\" >\n",
       "    #T_7bfecf16_165b_11eb_a999_acde48001122 caption {\n",
       "          font-size: 20px;\n",
       "          color: black;\n",
       "    }</style><table id=\"T_7bfecf16_165b_11eb_a999_acde48001122\" ><caption>Purchasing Analysis (Total)</caption><thead>    <tr>        <th class=\"blank level0\" ></th>        <th class=\"col_heading level0 col0\" >Number of Unique Items</th>        <th class=\"col_heading level0 col1\" >Average Price</th>        <th class=\"col_heading level0 col2\" >Number of Purchases</th>        <th class=\"col_heading level0 col3\" >Total Revenue</th>    </tr></thead><tbody>\n",
       "                <tr>\n",
       "                        <th id=\"T_7bfecf16_165b_11eb_a999_acde48001122level0_row0\" class=\"row_heading level0 row0\" >0</th>\n",
       "                        <td id=\"T_7bfecf16_165b_11eb_a999_acde48001122row0_col0\" class=\"data row0 col0\" >179</td>\n",
       "                        <td id=\"T_7bfecf16_165b_11eb_a999_acde48001122row0_col1\" class=\"data row0 col1\" >$3.05</td>\n",
       "                        <td id=\"T_7bfecf16_165b_11eb_a999_acde48001122row0_col2\" class=\"data row0 col2\" >780</td>\n",
       "                        <td id=\"T_7bfecf16_165b_11eb_a999_acde48001122row0_col3\" class=\"data row0 col3\" >$2,379.77</td>\n",
       "            </tr>\n",
       "    </tbody></table>"
      ],
      "text/plain": [
       "<pandas.io.formats.style.Styler at 0x7fab188ee580>"
      ]
     },
     "execution_count": 4,
     "metadata": {},
     "output_type": "execute_result"
    }
   ],
   "source": [
    "#Display Data Frame with the calculations\n",
    "summary_df = pd.DataFrame({\"Number of Unique Items\": [uni_items],\n",
    "                              \"Average Price\": [avr_price],\n",
    "                              \"Number of Purchases\": [num_purchases],\n",
    "                              \"Total Revenue\": [tot_revenue]})\n",
    "summary_df\n",
    "\n",
    "Title = summary_df.style.set_caption ('Purchasing Analysis (Total)')\n",
    "Title.set_table_styles([{\n",
    "                         'selector':'caption',\n",
    "                        'props': [('font-size', '20px'),\n",
    "                                 ('color', 'black')]\n",
    "                        }])"
   ]
  },
  {
   "cell_type": "code",
   "execution_count": 5,
   "metadata": {},
   "outputs": [
    {
     "data": {
      "text/html": [
       "<style  type=\"text/css\" >\n",
       "    #T_7dc4f154_165b_11eb_a999_acde48001122 caption {\n",
       "          font-size: 20px;\n",
       "          color: black;\n",
       "    }</style><table id=\"T_7dc4f154_165b_11eb_a999_acde48001122\" ><caption>Gender Demographics</caption><thead>    <tr>        <th class=\"blank level0\" ></th>        <th class=\"col_heading level0 col0\" >Gender</th>        <th class=\"col_heading level0 col1\" >Total Count</th>        <th class=\"col_heading level0 col2\" >Percentage of Players</th>    </tr></thead><tbody>\n",
       "                <tr>\n",
       "                        <th id=\"T_7dc4f154_165b_11eb_a999_acde48001122level0_row0\" class=\"row_heading level0 row0\" >1</th>\n",
       "                        <td id=\"T_7dc4f154_165b_11eb_a999_acde48001122row0_col0\" class=\"data row0 col0\" >Male</td>\n",
       "                        <td id=\"T_7dc4f154_165b_11eb_a999_acde48001122row0_col1\" class=\"data row0 col1\" >484</td>\n",
       "                        <td id=\"T_7dc4f154_165b_11eb_a999_acde48001122row0_col2\" class=\"data row0 col2\" >84.03%</td>\n",
       "            </tr>\n",
       "            <tr>\n",
       "                        <th id=\"T_7dc4f154_165b_11eb_a999_acde48001122level0_row1\" class=\"row_heading level0 row1\" >0</th>\n",
       "                        <td id=\"T_7dc4f154_165b_11eb_a999_acde48001122row1_col0\" class=\"data row1 col0\" >Female</td>\n",
       "                        <td id=\"T_7dc4f154_165b_11eb_a999_acde48001122row1_col1\" class=\"data row1 col1\" >81</td>\n",
       "                        <td id=\"T_7dc4f154_165b_11eb_a999_acde48001122row1_col2\" class=\"data row1 col2\" >14.06%</td>\n",
       "            </tr>\n",
       "            <tr>\n",
       "                        <th id=\"T_7dc4f154_165b_11eb_a999_acde48001122level0_row2\" class=\"row_heading level0 row2\" >2</th>\n",
       "                        <td id=\"T_7dc4f154_165b_11eb_a999_acde48001122row2_col0\" class=\"data row2 col0\" >Other / Non-Disclosed</td>\n",
       "                        <td id=\"T_7dc4f154_165b_11eb_a999_acde48001122row2_col1\" class=\"data row2 col1\" >11</td>\n",
       "                        <td id=\"T_7dc4f154_165b_11eb_a999_acde48001122row2_col2\" class=\"data row2 col2\" >1.91%</td>\n",
       "            </tr>\n",
       "    </tbody></table>"
      ],
      "text/plain": [
       "<pandas.io.formats.style.Styler at 0x7fab188c6ca0>"
      ]
     },
     "execution_count": 5,
     "metadata": {},
     "output_type": "execute_result"
    }
   ],
   "source": [
    "# Displaying Gender Demographics\n",
    "\n",
    "\n",
    "gender_df = pd.DataFrame({'Total Count' : purchase_df.groupby(\"Gender\")[\"SN\"].nunique()}).reset_index()\n",
    "gender_df [\"Percentage of Players\"] = (gender_df[\"Total Count\"] / gender_df[\"Total Count\"].sum()).map('{:,.2%}'.format)\n",
    "gender_df_sorted = gender_df.sort_values(by='Total Count', ascending=False)\n",
    "gender_df_sorted.set_index('Gender')\n",
    "\n",
    "Title = gender_df_sorted.style.set_caption ('Gender Demographics')\n",
    "Title.set_table_styles([{\n",
    "                         'selector':'caption',\n",
    "                        'props': [('font-size', '20px'),\n",
    "                                 ('color', 'black')]\n",
    "                        }])\n"
   ]
  },
  {
   "cell_type": "code",
   "execution_count": 46,
   "metadata": {},
   "outputs": [
    {
     "data": {
      "text/html": [
       "<style  type=\"text/css\" >\n",
       "    #T_ac361200_14e6_11eb_92ee_3e22fb269b55 caption {\n",
       "          font-size: 20px;\n",
       "          color: black;\n",
       "    }</style><table id=\"T_ac361200_14e6_11eb_92ee_3e22fb269b55\" ><caption>Purchasing Analysis (Gender)</caption><thead>    <tr>        <th class=\"blank level0\" ></th>        <th class=\"col_heading level0 col0\" >Purchase Count</th>        <th class=\"col_heading level0 col1\" >Average Purchase Price</th>        <th class=\"col_heading level0 col2\" >Total Purchase Value</th>        <th class=\"col_heading level0 col3\" >Avg Total Purchase per Person</th>    </tr>    <tr>        <th class=\"index_name level0\" >Gender</th>        <th class=\"blank\" ></th>        <th class=\"blank\" ></th>        <th class=\"blank\" ></th>        <th class=\"blank\" ></th>    </tr></thead><tbody>\n",
       "                <tr>\n",
       "                        <th id=\"T_ac361200_14e6_11eb_92ee_3e22fb269b55level0_row0\" class=\"row_heading level0 row0\" >Female</th>\n",
       "                        <td id=\"T_ac361200_14e6_11eb_92ee_3e22fb269b55row0_col0\" class=\"data row0 col0\" >113</td>\n",
       "                        <td id=\"T_ac361200_14e6_11eb_92ee_3e22fb269b55row0_col1\" class=\"data row0 col1\" >$3.20</td>\n",
       "                        <td id=\"T_ac361200_14e6_11eb_92ee_3e22fb269b55row0_col2\" class=\"data row0 col2\" >$361.94</td>\n",
       "                        <td id=\"T_ac361200_14e6_11eb_92ee_3e22fb269b55row0_col3\" class=\"data row0 col3\" >$4.47</td>\n",
       "            </tr>\n",
       "            <tr>\n",
       "                        <th id=\"T_ac361200_14e6_11eb_92ee_3e22fb269b55level0_row1\" class=\"row_heading level0 row1\" >Male</th>\n",
       "                        <td id=\"T_ac361200_14e6_11eb_92ee_3e22fb269b55row1_col0\" class=\"data row1 col0\" >652</td>\n",
       "                        <td id=\"T_ac361200_14e6_11eb_92ee_3e22fb269b55row1_col1\" class=\"data row1 col1\" >$3.02</td>\n",
       "                        <td id=\"T_ac361200_14e6_11eb_92ee_3e22fb269b55row1_col2\" class=\"data row1 col2\" >$1,967.64</td>\n",
       "                        <td id=\"T_ac361200_14e6_11eb_92ee_3e22fb269b55row1_col3\" class=\"data row1 col3\" >$4.07</td>\n",
       "            </tr>\n",
       "            <tr>\n",
       "                        <th id=\"T_ac361200_14e6_11eb_92ee_3e22fb269b55level0_row2\" class=\"row_heading level0 row2\" >Other / Non-Disclosed</th>\n",
       "                        <td id=\"T_ac361200_14e6_11eb_92ee_3e22fb269b55row2_col0\" class=\"data row2 col0\" >15</td>\n",
       "                        <td id=\"T_ac361200_14e6_11eb_92ee_3e22fb269b55row2_col1\" class=\"data row2 col1\" >$3.35</td>\n",
       "                        <td id=\"T_ac361200_14e6_11eb_92ee_3e22fb269b55row2_col2\" class=\"data row2 col2\" >$50.19</td>\n",
       "                        <td id=\"T_ac361200_14e6_11eb_92ee_3e22fb269b55row2_col3\" class=\"data row2 col3\" >$4.56</td>\n",
       "            </tr>\n",
       "    </tbody></table>"
      ],
      "text/plain": [
       "<pandas.io.formats.style.Styler at 0x7fefecbf0b20>"
      ]
     },
     "execution_count": 46,
     "metadata": {},
     "output_type": "execute_result"
    }
   ],
   "source": [
    "#grouping by Genders and run calculatios based on the Genders\n",
    "#Formatting number with dol sign and create Data Frame\n",
    "grouped_df = purchase_df.groupby(\"Gender\").Price.agg(['count','mean','sum'])\n",
    "grouped_df.columns = ['Purchase Count', 'Average Purchase Price','Total Purchase Value']\n",
    "\n",
    "grouped_df['Avg Total Purchase per Person'] = purchase_df.groupby(\"Gender\")[\"Price\"].sum()/purchase_df.groupby(\"Gender\")[\"SN\"].nunique()\n",
    "grouped_df_final = grouped_df.style.format({\n",
    "    'Average Purchase Price' : '${:,.2f}'.format,\n",
    "    'Total Purchase Value' : '${:,.2f}'.format,\n",
    "    'Avg Total Purchase per Person' : '${:,.2f}'.format,\n",
    "}).set_caption ('Purchasing Analysis (Gender)')\n",
    "Title_final = grouped_df_final.set_table_styles([{\n",
    "                         'selector':'caption',\n",
    "                        'props': [('font-size', '20px'),\n",
    "                                 ('color', 'black')]\n",
    "                        }])\n",
    "Title_final"
   ]
  },
  {
   "cell_type": "code",
   "execution_count": 10,
   "metadata": {},
   "outputs": [
    {
     "name": "stdout",
     "output_type": "stream",
     "text": [
      "45\n",
      "7\n"
     ]
    }
   ],
   "source": [
    "#finding out min and max age to determine bins\n",
    "print(purchase_df[\"Age\"].max())\n",
    "print(purchase_df[\"Age\"].min())\n",
    "\n",
    "#creating bins\n",
    "bins = [0,9,14,19,24,29,34,39,45]\n",
    "group_labels = [\"<10\", \"10-14\",\"15-19\",\"20-24\",\"25-29\",\"30-34\",\"35-39\",\"40+\"]"
   ]
  },
  {
   "cell_type": "code",
   "execution_count": 11,
   "metadata": {},
   "outputs": [
    {
     "data": {
      "text/plain": [
       "0    20-24\n",
       "1      40+\n",
       "2    20-24\n",
       "3    20-24\n",
       "4    20-24\n",
       "Name: Age, dtype: category\n",
       "Categories (8, object): [<10 < 10-14 < 15-19 < 20-24 < 25-29 < 30-34 < 35-39 < 40+]"
      ]
     },
     "execution_count": 11,
     "metadata": {},
     "output_type": "execute_result"
    }
   ],
   "source": [
    "# bins lebelling\n",
    "age_range = pd.cut(purchase_df[\"Age\"],bins,labels=group_labels)\n",
    "age_range.head()"
   ]
  },
  {
   "cell_type": "code",
   "execution_count": 12,
   "metadata": {},
   "outputs": [
    {
     "data": {
      "text/html": [
       "<div>\n",
       "<style scoped>\n",
       "    .dataframe tbody tr th:only-of-type {\n",
       "        vertical-align: middle;\n",
       "    }\n",
       "\n",
       "    .dataframe tbody tr th {\n",
       "        vertical-align: top;\n",
       "    }\n",
       "\n",
       "    .dataframe thead th {\n",
       "        text-align: right;\n",
       "    }\n",
       "</style>\n",
       "<table border=\"1\" class=\"dataframe\">\n",
       "  <thead>\n",
       "    <tr style=\"text-align: right;\">\n",
       "      <th></th>\n",
       "      <th>Purchase ID</th>\n",
       "      <th>SN</th>\n",
       "      <th>Age</th>\n",
       "      <th>Gender</th>\n",
       "      <th>Item ID</th>\n",
       "      <th>Item Name</th>\n",
       "      <th>Price</th>\n",
       "      <th>Age Group</th>\n",
       "    </tr>\n",
       "  </thead>\n",
       "  <tbody>\n",
       "    <tr>\n",
       "      <th>0</th>\n",
       "      <td>0</td>\n",
       "      <td>Lisim78</td>\n",
       "      <td>20</td>\n",
       "      <td>Male</td>\n",
       "      <td>108</td>\n",
       "      <td>Extraction, Quickblade Of Trembling Hands</td>\n",
       "      <td>3.53</td>\n",
       "      <td>20-24</td>\n",
       "    </tr>\n",
       "    <tr>\n",
       "      <th>1</th>\n",
       "      <td>1</td>\n",
       "      <td>Lisovynya38</td>\n",
       "      <td>40</td>\n",
       "      <td>Male</td>\n",
       "      <td>143</td>\n",
       "      <td>Frenzied Scimitar</td>\n",
       "      <td>1.56</td>\n",
       "      <td>40+</td>\n",
       "    </tr>\n",
       "    <tr>\n",
       "      <th>2</th>\n",
       "      <td>2</td>\n",
       "      <td>Ithergue48</td>\n",
       "      <td>24</td>\n",
       "      <td>Male</td>\n",
       "      <td>92</td>\n",
       "      <td>Final Critic</td>\n",
       "      <td>4.88</td>\n",
       "      <td>20-24</td>\n",
       "    </tr>\n",
       "    <tr>\n",
       "      <th>3</th>\n",
       "      <td>3</td>\n",
       "      <td>Chamassasya86</td>\n",
       "      <td>24</td>\n",
       "      <td>Male</td>\n",
       "      <td>100</td>\n",
       "      <td>Blindscythe</td>\n",
       "      <td>3.27</td>\n",
       "      <td>20-24</td>\n",
       "    </tr>\n",
       "    <tr>\n",
       "      <th>4</th>\n",
       "      <td>4</td>\n",
       "      <td>Iskosia90</td>\n",
       "      <td>23</td>\n",
       "      <td>Male</td>\n",
       "      <td>131</td>\n",
       "      <td>Fury</td>\n",
       "      <td>1.44</td>\n",
       "      <td>20-24</td>\n",
       "    </tr>\n",
       "  </tbody>\n",
       "</table>\n",
       "</div>"
      ],
      "text/plain": [
       "   Purchase ID             SN  Age Gender  Item ID  \\\n",
       "0            0        Lisim78   20   Male      108   \n",
       "1            1    Lisovynya38   40   Male      143   \n",
       "2            2     Ithergue48   24   Male       92   \n",
       "3            3  Chamassasya86   24   Male      100   \n",
       "4            4      Iskosia90   23   Male      131   \n",
       "\n",
       "                                   Item Name  Price Age Group  \n",
       "0  Extraction, Quickblade Of Trembling Hands   3.53     20-24  \n",
       "1                          Frenzied Scimitar   1.56       40+  \n",
       "2                               Final Critic   4.88     20-24  \n",
       "3                                Blindscythe   3.27     20-24  \n",
       "4                                       Fury   1.44     20-24  "
      ]
     },
     "execution_count": 12,
     "metadata": {},
     "output_type": "execute_result"
    }
   ],
   "source": [
    "\n",
    "#checking and including a new column with the Age Group\n",
    "purchase_df[\"Age Group\"] = age_range\n",
    "purchase_df.head()"
   ]
  },
  {
   "cell_type": "code",
   "execution_count": 47,
   "metadata": {},
   "outputs": [
    {
     "data": {
      "text/html": [
       "<style  type=\"text/css\" >\n",
       "    #T_e7b5233e_14e6_11eb_92ee_3e22fb269b55 caption {\n",
       "          font-size: 20px;\n",
       "          color: black;\n",
       "    }</style><table id=\"T_e7b5233e_14e6_11eb_92ee_3e22fb269b55\" ><caption>Age Demographics</caption><thead>    <tr>        <th class=\"blank level0\" ></th>        <th class=\"col_heading level0 col0\" >Total Count</th>        <th class=\"col_heading level0 col1\" >Percentage of Players</th>    </tr>    <tr>        <th class=\"index_name level0\" >Age Group</th>        <th class=\"blank\" ></th>        <th class=\"blank\" ></th>    </tr></thead><tbody>\n",
       "                <tr>\n",
       "                        <th id=\"T_e7b5233e_14e6_11eb_92ee_3e22fb269b55level0_row0\" class=\"row_heading level0 row0\" ><10</th>\n",
       "                        <td id=\"T_e7b5233e_14e6_11eb_92ee_3e22fb269b55row0_col0\" class=\"data row0 col0\" >17</td>\n",
       "                        <td id=\"T_e7b5233e_14e6_11eb_92ee_3e22fb269b55row0_col1\" class=\"data row0 col1\" >2.95%</td>\n",
       "            </tr>\n",
       "            <tr>\n",
       "                        <th id=\"T_e7b5233e_14e6_11eb_92ee_3e22fb269b55level0_row1\" class=\"row_heading level0 row1\" >10-14</th>\n",
       "                        <td id=\"T_e7b5233e_14e6_11eb_92ee_3e22fb269b55row1_col0\" class=\"data row1 col0\" >22</td>\n",
       "                        <td id=\"T_e7b5233e_14e6_11eb_92ee_3e22fb269b55row1_col1\" class=\"data row1 col1\" >3.82%</td>\n",
       "            </tr>\n",
       "            <tr>\n",
       "                        <th id=\"T_e7b5233e_14e6_11eb_92ee_3e22fb269b55level0_row2\" class=\"row_heading level0 row2\" >15-19</th>\n",
       "                        <td id=\"T_e7b5233e_14e6_11eb_92ee_3e22fb269b55row2_col0\" class=\"data row2 col0\" >107</td>\n",
       "                        <td id=\"T_e7b5233e_14e6_11eb_92ee_3e22fb269b55row2_col1\" class=\"data row2 col1\" >18.58%</td>\n",
       "            </tr>\n",
       "            <tr>\n",
       "                        <th id=\"T_e7b5233e_14e6_11eb_92ee_3e22fb269b55level0_row3\" class=\"row_heading level0 row3\" >20-24</th>\n",
       "                        <td id=\"T_e7b5233e_14e6_11eb_92ee_3e22fb269b55row3_col0\" class=\"data row3 col0\" >258</td>\n",
       "                        <td id=\"T_e7b5233e_14e6_11eb_92ee_3e22fb269b55row3_col1\" class=\"data row3 col1\" >44.79%</td>\n",
       "            </tr>\n",
       "            <tr>\n",
       "                        <th id=\"T_e7b5233e_14e6_11eb_92ee_3e22fb269b55level0_row4\" class=\"row_heading level0 row4\" >25-29</th>\n",
       "                        <td id=\"T_e7b5233e_14e6_11eb_92ee_3e22fb269b55row4_col0\" class=\"data row4 col0\" >77</td>\n",
       "                        <td id=\"T_e7b5233e_14e6_11eb_92ee_3e22fb269b55row4_col1\" class=\"data row4 col1\" >13.37%</td>\n",
       "            </tr>\n",
       "            <tr>\n",
       "                        <th id=\"T_e7b5233e_14e6_11eb_92ee_3e22fb269b55level0_row5\" class=\"row_heading level0 row5\" >30-34</th>\n",
       "                        <td id=\"T_e7b5233e_14e6_11eb_92ee_3e22fb269b55row5_col0\" class=\"data row5 col0\" >52</td>\n",
       "                        <td id=\"T_e7b5233e_14e6_11eb_92ee_3e22fb269b55row5_col1\" class=\"data row5 col1\" >9.03%</td>\n",
       "            </tr>\n",
       "            <tr>\n",
       "                        <th id=\"T_e7b5233e_14e6_11eb_92ee_3e22fb269b55level0_row6\" class=\"row_heading level0 row6\" >35-39</th>\n",
       "                        <td id=\"T_e7b5233e_14e6_11eb_92ee_3e22fb269b55row6_col0\" class=\"data row6 col0\" >31</td>\n",
       "                        <td id=\"T_e7b5233e_14e6_11eb_92ee_3e22fb269b55row6_col1\" class=\"data row6 col1\" >5.38%</td>\n",
       "            </tr>\n",
       "            <tr>\n",
       "                        <th id=\"T_e7b5233e_14e6_11eb_92ee_3e22fb269b55level0_row7\" class=\"row_heading level0 row7\" >40+</th>\n",
       "                        <td id=\"T_e7b5233e_14e6_11eb_92ee_3e22fb269b55row7_col0\" class=\"data row7 col0\" >12</td>\n",
       "                        <td id=\"T_e7b5233e_14e6_11eb_92ee_3e22fb269b55row7_col1\" class=\"data row7 col1\" >2.08%</td>\n",
       "            </tr>\n",
       "    </tbody></table>"
      ],
      "text/plain": [
       "<pandas.io.formats.style.Styler at 0x7fefecb918e0>"
      ]
     },
     "execution_count": 47,
     "metadata": {},
     "output_type": "execute_result"
    }
   ],
   "source": [
    "# Age demographics and calculating percentage\n",
    "grouped_age = purchase_df.groupby(\"Age Group\").SN.agg(['nunique'])\n",
    "grouped_age.columns = ['Total Count']\n",
    "\n",
    "grouped_age['Percentage of Players'] =  (purchase_df.groupby(\"Age Group\")['SN'].nunique()/ total_players).map('{:,.2%}'.format)\n",
    "\n",
    "Title = grouped_age.style.set_caption ('Age Demographics')\n",
    "Title.set_table_styles([{\n",
    "                         'selector':'caption',\n",
    "                        'props': [('font-size', '20px'),\n",
    "                                 ('color', 'black')]\n",
    "                        }])"
   ]
  },
  {
   "cell_type": "code",
   "execution_count": 49,
   "metadata": {},
   "outputs": [
    {
     "data": {
      "text/html": [
       "<style  type=\"text/css\" >\n",
       "    #T_1ee5144a_14e7_11eb_92ee_3e22fb269b55 caption {\n",
       "          font-size: 20px;\n",
       "          color: black;\n",
       "    }</style><table id=\"T_1ee5144a_14e7_11eb_92ee_3e22fb269b55\" ><caption>Purchasing Analysis (Age)</caption><thead>    <tr>        <th class=\"blank level0\" ></th>        <th class=\"col_heading level0 col0\" >Purchase Count</th>        <th class=\"col_heading level0 col1\" >Average Purchase Price</th>        <th class=\"col_heading level0 col2\" >Total Purchase Value</th>        <th class=\"col_heading level0 col3\" >Avg Total Purchase per Person</th>    </tr>    <tr>        <th class=\"index_name level0\" >Age Group</th>        <th class=\"blank\" ></th>        <th class=\"blank\" ></th>        <th class=\"blank\" ></th>        <th class=\"blank\" ></th>    </tr></thead><tbody>\n",
       "                <tr>\n",
       "                        <th id=\"T_1ee5144a_14e7_11eb_92ee_3e22fb269b55level0_row0\" class=\"row_heading level0 row0\" ><10</th>\n",
       "                        <td id=\"T_1ee5144a_14e7_11eb_92ee_3e22fb269b55row0_col0\" class=\"data row0 col0\" >23</td>\n",
       "                        <td id=\"T_1ee5144a_14e7_11eb_92ee_3e22fb269b55row0_col1\" class=\"data row0 col1\" >$3.35</td>\n",
       "                        <td id=\"T_1ee5144a_14e7_11eb_92ee_3e22fb269b55row0_col2\" class=\"data row0 col2\" >$77.13</td>\n",
       "                        <td id=\"T_1ee5144a_14e7_11eb_92ee_3e22fb269b55row0_col3\" class=\"data row0 col3\" >$4.54</td>\n",
       "            </tr>\n",
       "            <tr>\n",
       "                        <th id=\"T_1ee5144a_14e7_11eb_92ee_3e22fb269b55level0_row1\" class=\"row_heading level0 row1\" >10-14</th>\n",
       "                        <td id=\"T_1ee5144a_14e7_11eb_92ee_3e22fb269b55row1_col0\" class=\"data row1 col0\" >28</td>\n",
       "                        <td id=\"T_1ee5144a_14e7_11eb_92ee_3e22fb269b55row1_col1\" class=\"data row1 col1\" >$2.96</td>\n",
       "                        <td id=\"T_1ee5144a_14e7_11eb_92ee_3e22fb269b55row1_col2\" class=\"data row1 col2\" >$82.78</td>\n",
       "                        <td id=\"T_1ee5144a_14e7_11eb_92ee_3e22fb269b55row1_col3\" class=\"data row1 col3\" >$3.76</td>\n",
       "            </tr>\n",
       "            <tr>\n",
       "                        <th id=\"T_1ee5144a_14e7_11eb_92ee_3e22fb269b55level0_row2\" class=\"row_heading level0 row2\" >15-19</th>\n",
       "                        <td id=\"T_1ee5144a_14e7_11eb_92ee_3e22fb269b55row2_col0\" class=\"data row2 col0\" >136</td>\n",
       "                        <td id=\"T_1ee5144a_14e7_11eb_92ee_3e22fb269b55row2_col1\" class=\"data row2 col1\" >$3.04</td>\n",
       "                        <td id=\"T_1ee5144a_14e7_11eb_92ee_3e22fb269b55row2_col2\" class=\"data row2 col2\" >$412.89</td>\n",
       "                        <td id=\"T_1ee5144a_14e7_11eb_92ee_3e22fb269b55row2_col3\" class=\"data row2 col3\" >$3.86</td>\n",
       "            </tr>\n",
       "            <tr>\n",
       "                        <th id=\"T_1ee5144a_14e7_11eb_92ee_3e22fb269b55level0_row3\" class=\"row_heading level0 row3\" >20-24</th>\n",
       "                        <td id=\"T_1ee5144a_14e7_11eb_92ee_3e22fb269b55row3_col0\" class=\"data row3 col0\" >365</td>\n",
       "                        <td id=\"T_1ee5144a_14e7_11eb_92ee_3e22fb269b55row3_col1\" class=\"data row3 col1\" >$3.05</td>\n",
       "                        <td id=\"T_1ee5144a_14e7_11eb_92ee_3e22fb269b55row3_col2\" class=\"data row3 col2\" >$1,114.06</td>\n",
       "                        <td id=\"T_1ee5144a_14e7_11eb_92ee_3e22fb269b55row3_col3\" class=\"data row3 col3\" >$4.32</td>\n",
       "            </tr>\n",
       "            <tr>\n",
       "                        <th id=\"T_1ee5144a_14e7_11eb_92ee_3e22fb269b55level0_row4\" class=\"row_heading level0 row4\" >25-29</th>\n",
       "                        <td id=\"T_1ee5144a_14e7_11eb_92ee_3e22fb269b55row4_col0\" class=\"data row4 col0\" >101</td>\n",
       "                        <td id=\"T_1ee5144a_14e7_11eb_92ee_3e22fb269b55row4_col1\" class=\"data row4 col1\" >$2.90</td>\n",
       "                        <td id=\"T_1ee5144a_14e7_11eb_92ee_3e22fb269b55row4_col2\" class=\"data row4 col2\" >$293.00</td>\n",
       "                        <td id=\"T_1ee5144a_14e7_11eb_92ee_3e22fb269b55row4_col3\" class=\"data row4 col3\" >$3.81</td>\n",
       "            </tr>\n",
       "            <tr>\n",
       "                        <th id=\"T_1ee5144a_14e7_11eb_92ee_3e22fb269b55level0_row5\" class=\"row_heading level0 row5\" >30-34</th>\n",
       "                        <td id=\"T_1ee5144a_14e7_11eb_92ee_3e22fb269b55row5_col0\" class=\"data row5 col0\" >73</td>\n",
       "                        <td id=\"T_1ee5144a_14e7_11eb_92ee_3e22fb269b55row5_col1\" class=\"data row5 col1\" >$2.93</td>\n",
       "                        <td id=\"T_1ee5144a_14e7_11eb_92ee_3e22fb269b55row5_col2\" class=\"data row5 col2\" >$214.00</td>\n",
       "                        <td id=\"T_1ee5144a_14e7_11eb_92ee_3e22fb269b55row5_col3\" class=\"data row5 col3\" >$4.12</td>\n",
       "            </tr>\n",
       "            <tr>\n",
       "                        <th id=\"T_1ee5144a_14e7_11eb_92ee_3e22fb269b55level0_row6\" class=\"row_heading level0 row6\" >35-39</th>\n",
       "                        <td id=\"T_1ee5144a_14e7_11eb_92ee_3e22fb269b55row6_col0\" class=\"data row6 col0\" >41</td>\n",
       "                        <td id=\"T_1ee5144a_14e7_11eb_92ee_3e22fb269b55row6_col1\" class=\"data row6 col1\" >$3.60</td>\n",
       "                        <td id=\"T_1ee5144a_14e7_11eb_92ee_3e22fb269b55row6_col2\" class=\"data row6 col2\" >$147.67</td>\n",
       "                        <td id=\"T_1ee5144a_14e7_11eb_92ee_3e22fb269b55row6_col3\" class=\"data row6 col3\" >$4.76</td>\n",
       "            </tr>\n",
       "            <tr>\n",
       "                        <th id=\"T_1ee5144a_14e7_11eb_92ee_3e22fb269b55level0_row7\" class=\"row_heading level0 row7\" >40+</th>\n",
       "                        <td id=\"T_1ee5144a_14e7_11eb_92ee_3e22fb269b55row7_col0\" class=\"data row7 col0\" >13</td>\n",
       "                        <td id=\"T_1ee5144a_14e7_11eb_92ee_3e22fb269b55row7_col1\" class=\"data row7 col1\" >$2.94</td>\n",
       "                        <td id=\"T_1ee5144a_14e7_11eb_92ee_3e22fb269b55row7_col2\" class=\"data row7 col2\" >$38.24</td>\n",
       "                        <td id=\"T_1ee5144a_14e7_11eb_92ee_3e22fb269b55row7_col3\" class=\"data row7 col3\" >$3.19</td>\n",
       "            </tr>\n",
       "    </tbody></table>"
      ],
      "text/plain": [
       "<pandas.io.formats.style.Styler at 0x7fefecba1100>"
      ]
     },
     "execution_count": 49,
     "metadata": {},
     "output_type": "execute_result"
    }
   ],
   "source": [
    "# purchasing analysis and calculations  and creating a data frame\n",
    "grouped_age_df = purchase_df.groupby('Age Group').Price.agg(['count','mean','sum'])\n",
    "grouped_age_df.columns = ['Purchase Count', 'Average Purchase Price','Total Purchase Value']\n",
    "\n",
    "grouped_age_df['Avg Total Purchase per Person'] = purchase_df.groupby(\"Age Group\")[\"Price\"].sum()/purchase_df.groupby(\"Age Group\")[\"SN\"].nunique()\n",
    "\n",
    "\n",
    "grouped_age_final = grouped_age_df.style.format({\n",
    "    'Average Purchase Price' : '${:,.2f}'.format,\n",
    "    'Total Purchase Value' : '${:,.2f}'.format,\n",
    "    'Avg Total Purchase per Person' : '${:,.2f}'.format\n",
    "}).set_caption ('Purchasing Analysis (Age)')\n",
    "Title_final = grouped_age_final.set_table_styles([{\n",
    "                         'selector':'caption',\n",
    "                        'props': [('font-size', '20px'),\n",
    "                                 ('color', 'black')]\n",
    "                        }])\n",
    "Title_final"
   ]
  },
  {
   "cell_type": "code",
   "execution_count": 50,
   "metadata": {},
   "outputs": [
    {
     "data": {
      "text/html": [
       "<style  type=\"text/css\" >\n",
       "    #T_40938586_14e7_11eb_92ee_3e22fb269b55 caption {\n",
       "          font-size: 20px;\n",
       "          color: black;\n",
       "    }</style><table id=\"T_40938586_14e7_11eb_92ee_3e22fb269b55\" ><caption>Top Spenders</caption><thead>    <tr>        <th class=\"blank level0\" ></th>        <th class=\"col_heading level0 col0\" >Purchase Count</th>        <th class=\"col_heading level0 col1\" >Average Purchase Price</th>        <th class=\"col_heading level0 col2\" >Total Purchase Value</th>    </tr>    <tr>        <th class=\"index_name level0\" >SN</th>        <th class=\"blank\" ></th>        <th class=\"blank\" ></th>        <th class=\"blank\" ></th>    </tr></thead><tbody>\n",
       "                <tr>\n",
       "                        <th id=\"T_40938586_14e7_11eb_92ee_3e22fb269b55level0_row0\" class=\"row_heading level0 row0\" >Lisosia93</th>\n",
       "                        <td id=\"T_40938586_14e7_11eb_92ee_3e22fb269b55row0_col0\" class=\"data row0 col0\" >5</td>\n",
       "                        <td id=\"T_40938586_14e7_11eb_92ee_3e22fb269b55row0_col1\" class=\"data row0 col1\" >$3.79</td>\n",
       "                        <td id=\"T_40938586_14e7_11eb_92ee_3e22fb269b55row0_col2\" class=\"data row0 col2\" >$18.96</td>\n",
       "            </tr>\n",
       "            <tr>\n",
       "                        <th id=\"T_40938586_14e7_11eb_92ee_3e22fb269b55level0_row1\" class=\"row_heading level0 row1\" >Idastidru52</th>\n",
       "                        <td id=\"T_40938586_14e7_11eb_92ee_3e22fb269b55row1_col0\" class=\"data row1 col0\" >4</td>\n",
       "                        <td id=\"T_40938586_14e7_11eb_92ee_3e22fb269b55row1_col1\" class=\"data row1 col1\" >$3.86</td>\n",
       "                        <td id=\"T_40938586_14e7_11eb_92ee_3e22fb269b55row1_col2\" class=\"data row1 col2\" >$15.45</td>\n",
       "            </tr>\n",
       "            <tr>\n",
       "                        <th id=\"T_40938586_14e7_11eb_92ee_3e22fb269b55level0_row2\" class=\"row_heading level0 row2\" >Chamjask73</th>\n",
       "                        <td id=\"T_40938586_14e7_11eb_92ee_3e22fb269b55row2_col0\" class=\"data row2 col0\" >3</td>\n",
       "                        <td id=\"T_40938586_14e7_11eb_92ee_3e22fb269b55row2_col1\" class=\"data row2 col1\" >$4.61</td>\n",
       "                        <td id=\"T_40938586_14e7_11eb_92ee_3e22fb269b55row2_col2\" class=\"data row2 col2\" >$13.83</td>\n",
       "            </tr>\n",
       "            <tr>\n",
       "                        <th id=\"T_40938586_14e7_11eb_92ee_3e22fb269b55level0_row3\" class=\"row_heading level0 row3\" >Iral74</th>\n",
       "                        <td id=\"T_40938586_14e7_11eb_92ee_3e22fb269b55row3_col0\" class=\"data row3 col0\" >4</td>\n",
       "                        <td id=\"T_40938586_14e7_11eb_92ee_3e22fb269b55row3_col1\" class=\"data row3 col1\" >$3.40</td>\n",
       "                        <td id=\"T_40938586_14e7_11eb_92ee_3e22fb269b55row3_col2\" class=\"data row3 col2\" >$13.62</td>\n",
       "            </tr>\n",
       "            <tr>\n",
       "                        <th id=\"T_40938586_14e7_11eb_92ee_3e22fb269b55level0_row4\" class=\"row_heading level0 row4\" >Iskadarya95</th>\n",
       "                        <td id=\"T_40938586_14e7_11eb_92ee_3e22fb269b55row4_col0\" class=\"data row4 col0\" >3</td>\n",
       "                        <td id=\"T_40938586_14e7_11eb_92ee_3e22fb269b55row4_col1\" class=\"data row4 col1\" >$4.37</td>\n",
       "                        <td id=\"T_40938586_14e7_11eb_92ee_3e22fb269b55row4_col2\" class=\"data row4 col2\" >$13.10</td>\n",
       "            </tr>\n",
       "    </tbody></table>"
      ],
      "text/plain": [
       "<pandas.io.formats.style.Styler at 0x7fefeb7b6880>"
      ]
     },
     "execution_count": 50,
     "metadata": {},
     "output_type": "execute_result"
    }
   ],
   "source": [
    "# Finding out the top spenders\n",
    "top_spenders = purchase_df.groupby ('SN').Price.agg (['count','mean','sum'])\n",
    "top_spenders.columns = ['Purchase Count','Average Purchase Price','Total Purchase Value']\n",
    "top_senders_sorted = top_spenders.sort_values(by='Total Purchase Value', ascending=False).head()\n",
    "\n",
    "\n",
    "top_spenders_final = top_senders_sorted.style.format({\n",
    "    'Average Purchase Price' : '${:,.2f}'.format,\n",
    "    'Total Purchase Value' : '${:,.2f}'.format,\n",
    "\n",
    "}).set_caption ('Top Spenders')\n",
    "Title_final = top_spenders_final.set_table_styles([{\n",
    "                         'selector':'caption',\n",
    "                        'props': [('font-size', '20px'),\n",
    "                                 ('color', 'black')]\n",
    "                        }])\n",
    "Title_final"
   ]
  },
  {
   "cell_type": "code",
   "execution_count": 51,
   "metadata": {},
   "outputs": [
    {
     "data": {
      "text/html": [
       "<style  type=\"text/css\" >\n",
       "    #T_61a13bba_14e7_11eb_92ee_3e22fb269b55 caption {\n",
       "          font-size: 20px;\n",
       "          color: black;\n",
       "    }</style><table id=\"T_61a13bba_14e7_11eb_92ee_3e22fb269b55\" ><caption> Most Popular Items</caption><thead>    <tr>        <th class=\"blank\" ></th>        <th class=\"blank level0\" ></th>        <th class=\"col_heading level0 col0\" >Purchase Count</th>        <th class=\"col_heading level0 col1\" >Item Price</th>        <th class=\"col_heading level0 col2\" >Total Purchase Value</th>    </tr>    <tr>        <th class=\"index_name level0\" >Item ID</th>        <th class=\"index_name level1\" >Item Name</th>        <th class=\"blank\" ></th>        <th class=\"blank\" ></th>        <th class=\"blank\" ></th>    </tr></thead><tbody>\n",
       "                <tr>\n",
       "                        <th id=\"T_61a13bba_14e7_11eb_92ee_3e22fb269b55level0_row0\" class=\"row_heading level0 row0\" >92</th>\n",
       "                        <th id=\"T_61a13bba_14e7_11eb_92ee_3e22fb269b55level1_row0\" class=\"row_heading level1 row0\" >Final Critic</th>\n",
       "                        <td id=\"T_61a13bba_14e7_11eb_92ee_3e22fb269b55row0_col0\" class=\"data row0 col0\" >13</td>\n",
       "                        <td id=\"T_61a13bba_14e7_11eb_92ee_3e22fb269b55row0_col1\" class=\"data row0 col1\" >$4.61</td>\n",
       "                        <td id=\"T_61a13bba_14e7_11eb_92ee_3e22fb269b55row0_col2\" class=\"data row0 col2\" >$59.99</td>\n",
       "            </tr>\n",
       "            <tr>\n",
       "                        <th id=\"T_61a13bba_14e7_11eb_92ee_3e22fb269b55level0_row1\" class=\"row_heading level0 row1\" >178</th>\n",
       "                        <th id=\"T_61a13bba_14e7_11eb_92ee_3e22fb269b55level1_row1\" class=\"row_heading level1 row1\" >Oathbreaker, Last Hope of the Breaking Storm</th>\n",
       "                        <td id=\"T_61a13bba_14e7_11eb_92ee_3e22fb269b55row1_col0\" class=\"data row1 col0\" >12</td>\n",
       "                        <td id=\"T_61a13bba_14e7_11eb_92ee_3e22fb269b55row1_col1\" class=\"data row1 col1\" >$4.23</td>\n",
       "                        <td id=\"T_61a13bba_14e7_11eb_92ee_3e22fb269b55row1_col2\" class=\"data row1 col2\" >$50.76</td>\n",
       "            </tr>\n",
       "            <tr>\n",
       "                        <th id=\"T_61a13bba_14e7_11eb_92ee_3e22fb269b55level0_row2\" class=\"row_heading level0 row2\" >145</th>\n",
       "                        <th id=\"T_61a13bba_14e7_11eb_92ee_3e22fb269b55level1_row2\" class=\"row_heading level1 row2\" >Fiery Glass Crusader</th>\n",
       "                        <td id=\"T_61a13bba_14e7_11eb_92ee_3e22fb269b55row2_col0\" class=\"data row2 col0\" >9</td>\n",
       "                        <td id=\"T_61a13bba_14e7_11eb_92ee_3e22fb269b55row2_col1\" class=\"data row2 col1\" >$4.58</td>\n",
       "                        <td id=\"T_61a13bba_14e7_11eb_92ee_3e22fb269b55row2_col2\" class=\"data row2 col2\" >$41.22</td>\n",
       "            </tr>\n",
       "            <tr>\n",
       "                        <th id=\"T_61a13bba_14e7_11eb_92ee_3e22fb269b55level0_row3\" class=\"row_heading level0 row3\" >132</th>\n",
       "                        <th id=\"T_61a13bba_14e7_11eb_92ee_3e22fb269b55level1_row3\" class=\"row_heading level1 row3\" >Persuasion</th>\n",
       "                        <td id=\"T_61a13bba_14e7_11eb_92ee_3e22fb269b55row3_col0\" class=\"data row3 col0\" >9</td>\n",
       "                        <td id=\"T_61a13bba_14e7_11eb_92ee_3e22fb269b55row3_col1\" class=\"data row3 col1\" >$3.22</td>\n",
       "                        <td id=\"T_61a13bba_14e7_11eb_92ee_3e22fb269b55row3_col2\" class=\"data row3 col2\" >$28.99</td>\n",
       "            </tr>\n",
       "            <tr>\n",
       "                        <th id=\"T_61a13bba_14e7_11eb_92ee_3e22fb269b55level0_row4\" class=\"row_heading level0 row4\" >108</th>\n",
       "                        <th id=\"T_61a13bba_14e7_11eb_92ee_3e22fb269b55level1_row4\" class=\"row_heading level1 row4\" >Extraction, Quickblade Of Trembling Hands</th>\n",
       "                        <td id=\"T_61a13bba_14e7_11eb_92ee_3e22fb269b55row4_col0\" class=\"data row4 col0\" >9</td>\n",
       "                        <td id=\"T_61a13bba_14e7_11eb_92ee_3e22fb269b55row4_col1\" class=\"data row4 col1\" >$3.53</td>\n",
       "                        <td id=\"T_61a13bba_14e7_11eb_92ee_3e22fb269b55row4_col2\" class=\"data row4 col2\" >$31.77</td>\n",
       "            </tr>\n",
       "    </tbody></table>"
      ],
      "text/plain": [
       "<pandas.io.formats.style.Styler at 0x7fefecb1dd60>"
      ]
     },
     "execution_count": 51,
     "metadata": {},
     "output_type": "execute_result"
    }
   ],
   "source": [
    "#Finding out most popular items\n",
    "purchase_summary_df = purchase_df.groupby (['Item ID','Item Name']).Price.agg(['count','mean','sum'])\n",
    "purchase_summary_df.columns = ['Purchase Count','Item Price','Total Purchase Value']\n",
    "purchase_summ_df_sorted = purchase_summary_df.sort_values(by='Purchase Count', ascending=False).head()\n",
    "\n",
    "purchase_summ_df_final= purchase_summ_df_sorted.style.format({\n",
    "    'Item Price' : '${:,.2f}'.format,\n",
    "    'Total Purchase Value' : '${:,.2f}'.format,\n",
    "\n",
    "}).set_caption (' Most Popular Items')\n",
    "Title_final = purchase_summ_df_final.set_table_styles([{\n",
    "                         'selector':'caption',\n",
    "                        'props': [('font-size', '20px'),\n",
    "                                 ('color', 'black')]\n",
    "                        }])\n",
    "Title_final\n",
    "\n",
    "\n"
   ]
  },
  {
   "cell_type": "code",
   "execution_count": 52,
   "metadata": {},
   "outputs": [
    {
     "data": {
      "text/html": [
       "<style  type=\"text/css\" >\n",
       "    #T_9ca72652_14e7_11eb_92ee_3e22fb269b55 caption {\n",
       "          font-size: 20px;\n",
       "          color: black;\n",
       "    }</style><table id=\"T_9ca72652_14e7_11eb_92ee_3e22fb269b55\" ><caption>Most Profitable Items</caption><thead>    <tr>        <th class=\"blank\" ></th>        <th class=\"blank level0\" ></th>        <th class=\"col_heading level0 col0\" >Purchase Count</th>        <th class=\"col_heading level0 col1\" >Item Price</th>        <th class=\"col_heading level0 col2\" >Total Purchase Value</th>    </tr>    <tr>        <th class=\"index_name level0\" >Item ID</th>        <th class=\"index_name level1\" >Item Name</th>        <th class=\"blank\" ></th>        <th class=\"blank\" ></th>        <th class=\"blank\" ></th>    </tr></thead><tbody>\n",
       "                <tr>\n",
       "                        <th id=\"T_9ca72652_14e7_11eb_92ee_3e22fb269b55level0_row0\" class=\"row_heading level0 row0\" >92</th>\n",
       "                        <th id=\"T_9ca72652_14e7_11eb_92ee_3e22fb269b55level1_row0\" class=\"row_heading level1 row0\" >Final Critic</th>\n",
       "                        <td id=\"T_9ca72652_14e7_11eb_92ee_3e22fb269b55row0_col0\" class=\"data row0 col0\" >13</td>\n",
       "                        <td id=\"T_9ca72652_14e7_11eb_92ee_3e22fb269b55row0_col1\" class=\"data row0 col1\" >$4.61</td>\n",
       "                        <td id=\"T_9ca72652_14e7_11eb_92ee_3e22fb269b55row0_col2\" class=\"data row0 col2\" >$59.99</td>\n",
       "            </tr>\n",
       "            <tr>\n",
       "                        <th id=\"T_9ca72652_14e7_11eb_92ee_3e22fb269b55level0_row1\" class=\"row_heading level0 row1\" >178</th>\n",
       "                        <th id=\"T_9ca72652_14e7_11eb_92ee_3e22fb269b55level1_row1\" class=\"row_heading level1 row1\" >Oathbreaker, Last Hope of the Breaking Storm</th>\n",
       "                        <td id=\"T_9ca72652_14e7_11eb_92ee_3e22fb269b55row1_col0\" class=\"data row1 col0\" >12</td>\n",
       "                        <td id=\"T_9ca72652_14e7_11eb_92ee_3e22fb269b55row1_col1\" class=\"data row1 col1\" >$4.23</td>\n",
       "                        <td id=\"T_9ca72652_14e7_11eb_92ee_3e22fb269b55row1_col2\" class=\"data row1 col2\" >$50.76</td>\n",
       "            </tr>\n",
       "            <tr>\n",
       "                        <th id=\"T_9ca72652_14e7_11eb_92ee_3e22fb269b55level0_row2\" class=\"row_heading level0 row2\" >82</th>\n",
       "                        <th id=\"T_9ca72652_14e7_11eb_92ee_3e22fb269b55level1_row2\" class=\"row_heading level1 row2\" >Nirvana</th>\n",
       "                        <td id=\"T_9ca72652_14e7_11eb_92ee_3e22fb269b55row2_col0\" class=\"data row2 col0\" >9</td>\n",
       "                        <td id=\"T_9ca72652_14e7_11eb_92ee_3e22fb269b55row2_col1\" class=\"data row2 col1\" >$4.90</td>\n",
       "                        <td id=\"T_9ca72652_14e7_11eb_92ee_3e22fb269b55row2_col2\" class=\"data row2 col2\" >$44.10</td>\n",
       "            </tr>\n",
       "            <tr>\n",
       "                        <th id=\"T_9ca72652_14e7_11eb_92ee_3e22fb269b55level0_row3\" class=\"row_heading level0 row3\" >145</th>\n",
       "                        <th id=\"T_9ca72652_14e7_11eb_92ee_3e22fb269b55level1_row3\" class=\"row_heading level1 row3\" >Fiery Glass Crusader</th>\n",
       "                        <td id=\"T_9ca72652_14e7_11eb_92ee_3e22fb269b55row3_col0\" class=\"data row3 col0\" >9</td>\n",
       "                        <td id=\"T_9ca72652_14e7_11eb_92ee_3e22fb269b55row3_col1\" class=\"data row3 col1\" >$4.58</td>\n",
       "                        <td id=\"T_9ca72652_14e7_11eb_92ee_3e22fb269b55row3_col2\" class=\"data row3 col2\" >$41.22</td>\n",
       "            </tr>\n",
       "            <tr>\n",
       "                        <th id=\"T_9ca72652_14e7_11eb_92ee_3e22fb269b55level0_row4\" class=\"row_heading level0 row4\" >103</th>\n",
       "                        <th id=\"T_9ca72652_14e7_11eb_92ee_3e22fb269b55level1_row4\" class=\"row_heading level1 row4\" >Singed Scalpel</th>\n",
       "                        <td id=\"T_9ca72652_14e7_11eb_92ee_3e22fb269b55row4_col0\" class=\"data row4 col0\" >8</td>\n",
       "                        <td id=\"T_9ca72652_14e7_11eb_92ee_3e22fb269b55row4_col1\" class=\"data row4 col1\" >$4.35</td>\n",
       "                        <td id=\"T_9ca72652_14e7_11eb_92ee_3e22fb269b55row4_col2\" class=\"data row4 col2\" >$34.80</td>\n",
       "            </tr>\n",
       "    </tbody></table>"
      ],
      "text/plain": [
       "<pandas.io.formats.style.Styler at 0x7fefecba1e50>"
      ]
     },
     "execution_count": 52,
     "metadata": {},
     "output_type": "execute_result"
    }
   ],
   "source": [
    "# Finding out most profitable items\n",
    "purchase_summ_df_sorted = purchase_summary_df.sort_values(by='Total Purchase Value', ascending=False).head()\n",
    "\n",
    "purchase_summ_df_final= purchase_summ_df_sorted.style.format({\n",
    "    'Item Price' : '${:,.2f}'.format,\n",
    "    'Total Purchase Value' : '${:,.2f}'.format,\n",
    "\n",
    "}).set_caption ('Most Profitable Items')\n",
    "Title_final = purchase_summ_df_final.set_table_styles([{\n",
    "                         'selector':'caption',\n",
    "                        'props': [('font-size', '20px'),\n",
    "                                 ('color', 'black')]\n",
    "                        }])\n",
    "Title_final\n",
    "\n",
    "purchase_summ_df_final"
   ]
  },
  {
   "cell_type": "code",
   "execution_count": null,
   "metadata": {},
   "outputs": [],
   "source": []
  },
  {
   "cell_type": "code",
   "execution_count": null,
   "metadata": {},
   "outputs": [],
   "source": []
  }
 ],
 "metadata": {
  "kernelspec": {
   "display_name": "Python 3",
   "language": "python",
   "name": "python3"
  },
  "language_info": {
   "codemirror_mode": {
    "name": "ipython",
    "version": 3
   },
   "file_extension": ".py",
   "mimetype": "text/x-python",
   "name": "python",
   "nbconvert_exporter": "python",
   "pygments_lexer": "ipython3",
   "version": "3.8.3"
  }
 },
 "nbformat": 4,
 "nbformat_minor": 4
}
